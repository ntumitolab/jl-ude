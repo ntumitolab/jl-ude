{
 "cells": [
  {
   "cell_type": "markdown",
   "metadata": {},
   "source": [
    "# UDEs\n",
    "\n",
    "Universal Differential Equations (UDEs) are hybrids of differential equations and neural networks.\n",
    "\n",
    "- https://github.com/SciML/DiffEqFlux.jl : fusing differential equations (`DifferentialEquations.jl`) and neural networks (`Lux.jl`).\n",
    "- https://github.com/SciML/NeuralPDE.jl : physics-Informed Neural Networks (PINN) Solvers, learning and building the equations from the ground up. `NeuralPDE.jl` is slower than `DiffEqFlux.jl`.\n",
    "\n",
    "## Runtime information"
   ]
  },
  {
   "cell_type": "code",
   "execution_count": null,
   "metadata": {},
   "outputs": [],
   "source": [
    "using Pkg\n",
    "Pkg.status()"
   ]
  },
  {
   "cell_type": "code",
   "execution_count": null,
   "metadata": {},
   "outputs": [],
   "source": [
    "using InteractiveUtils\n",
    "InteractiveUtils.versioninfo()"
   ]
  }
 ],
 "metadata": {
  "kernelspec": {
   "display_name": "Julia 1.11.0",
   "language": "julia",
   "name": "julia-1.11"
  },
  "language_info": {
   "file_extension": ".jl",
   "mimetype": "application/julia",
   "name": "julia",
   "version": "1.11.0"
  }
 },
 "nbformat": 4,
 "nbformat_minor": 2
}
