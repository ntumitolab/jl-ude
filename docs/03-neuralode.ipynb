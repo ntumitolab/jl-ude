{
 "cells": [
  {
   "cell_type": "markdown",
   "metadata": {},
   "source": [
    "# Solving ODEs with NeuralPDE.jl\n",
    "\n",
    "From https://docs.sciml.ai/NeuralPDE/stable/tutorials/ode/\n",
    "\n",
    "For example, to solve the ODE\n",
    "\n",
    "$$\n",
    "u^{\\prime} = cos(2 \\pi t)\n",
    "$$"
   ]
  },
  {
   "cell_type": "code",
   "execution_count": null,
   "metadata": {},
   "outputs": [],
   "source": [
    "using NeuralPDE\n",
    "using Lux\n",
    "using OptimizationOptimisers\n",
    "using OrdinaryDiffEq\n",
    "using LinearAlgebra\n",
    "using Random\n",
    "rng = Random.default_rng()"
   ]
  },
  {
   "cell_type": "markdown",
   "metadata": {},
   "source": [
    "The true function is a cosine wave in this example."
   ]
  },
  {
   "cell_type": "code",
   "execution_count": null,
   "metadata": {},
   "outputs": [],
   "source": [
    "model(u, p, t) = cospi(2t)\n",
    "\n",
    "tspan = (0.0f0, 1.0f0)\n",
    "u0 = 0.0f0\n",
    "prob = ODEProblem(model, u0, tspan)"
   ]
  },
  {
   "cell_type": "markdown",
   "metadata": {},
   "source": [
    "Construct a neural network to solve the problem."
   ]
  },
  {
   "cell_type": "code",
   "execution_count": null,
   "metadata": {},
   "outputs": [],
   "source": [
    "chain = Lux.Chain(Lux.Dense(1, 5, σ), Lux.Dense(5, 1))\n",
    "ps, st = Lux.setup(rng, chain)"
   ]
  },
  {
   "cell_type": "markdown",
   "metadata": {},
   "source": [
    "We solve the ODE as before, just change the solver algorithm to `NeuralPDE.NNODE()`."
   ]
  },
  {
   "cell_type": "code",
   "execution_count": null,
   "metadata": {},
   "outputs": [],
   "source": [
    "optimizer = OptimizationOptimisers.Adam(0.1)\n",
    "alg = NeuralPDE.NNODE(chain, optimizer, init_params = ps)"
   ]
  },
  {
   "cell_type": "code",
   "execution_count": null,
   "metadata": {},
   "outputs": [],
   "source": [
    "sol = solve(prob, alg, verbose=true, maxiters=2000, saveat = 0.01)"
   ]
  },
  {
   "cell_type": "markdown",
   "metadata": {},
   "source": [
    "Comparing to the regular solver"
   ]
  },
  {
   "cell_type": "code",
   "execution_count": null,
   "metadata": {},
   "outputs": [],
   "source": [
    "sol2 = solve(prob, Tsit5(), saveat=sol.t)\n",
    "\n",
    "using LinearAlgebra\n",
    "norm(sol.u .- sol2.u, Inf)"
   ]
  }
 ],
 "metadata": {
  "kernelspec": {
   "display_name": "Julia 1.10.4",
   "language": "julia",
   "name": "julia-1.10"
  },
  "language_info": {
   "file_extension": ".jl",
   "mimetype": "application/julia",
   "name": "julia",
   "version": "1.10.4"
  }
 },
 "nbformat": 4,
 "nbformat_minor": 3
}
