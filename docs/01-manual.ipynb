{
 "cells": [
  {
   "cell_type": "markdown",
   "metadata": {},
   "source": [
    "# Solving Brusselator PDE from a system of ODEs\n",
    "\n",
    "From [solving large stiff equations](https://diffeq.sciml.ai/stable/tutorials/advanced_ode_example/#stiff) in `DifferentialEqautions.jl` tutorial.\n",
    "\n",
    "The Brusselator PDE system is defined as follows:\n",
    "\n",
    "$$\n",
    "\\begin{align}\n",
    "\\frac{\\partial u}{\\partial t} &= 1 + u^2v - 4.4u + \\alpha (\\frac{\\partial^2 u}{\\partial x^2} + \\frac{\\partial^2 u}{\\partial y^2}) + f(x, y, t) \\\\\n",
    "\\frac{\\partial v}{\\partial t} &= 3.4u - u^2 v + \\alpha (\\frac{\\partial^2 u}{\\partial x^2} + \\frac{\\partial^2 u}{\\partial y^2})\n",
    "\\end{align}\n",
    "$$\n",
    "\n",
    "where\n",
    "\n",
    "$$\n",
    "f(x, y, t) = \n",
    "\\begin{cases}\n",
    "5 \\qquad \\text{if} (x - 0.3)^2 + (y - 0.6)^2 \\leq 0.1^2 \\ and \\  t \\geq 1.1  \\\\\n",
    "0 \\qquad \\text{otherwise}\n",
    "\\end{cases}\n",
    "$$\n",
    "\n",
    "and the initial conditions are\n",
    "\n",
    "$$\n",
    "\\begin{align}\n",
    "u(x, y, 0) &= 22(y(1-y))^{1.5} \\\\\n",
    "v(x, y, 0) &= 27(x(1-x))^{1.5}\n",
    "\\end{align}\n",
    "$$\n",
    "\n",
    "with the periodic boundary condition\n",
    "\n",
    "$$\n",
    "\\begin{align}\n",
    "u(x+1, y, 0) &= u(x, y, t)  \\\\\n",
    "u(x, y+1, 0) &= u(x, y, t)\n",
    "\\end{align}\n",
    "$$\n",
    "\n",
    "on a timespan of $t \\in [0, 11.5]$.\n",
    "\n",
    "\n",
    "We could discretize it into a system of ODEs with the finite difference method (FDM)."
   ]
  },
  {
   "cell_type": "code",
   "execution_count": null,
   "metadata": {},
   "outputs": [],
   "source": [
    "using DifferentialEquations\n",
    "using LinearAlgebra\n",
    "using SparseArrays"
   ]
  },
  {
   "cell_type": "code",
   "execution_count": null,
   "metadata": {},
   "outputs": [],
   "source": [
    "const N = 32  # Resolution of the grid\n",
    "const xyd_brusselator = range(0, stop=1, length=N) # Grid points\n",
    "\n",
    "# Non-linerat part of the PDE\n",
    "brusselator_f(x, y, t) = 5.0 * (((x-0.3)^2 + (y-0.6)^2) <= 0.1^2) * (t >= 1.1)\n",
    "\n",
    "# Boundary limits\n",
    "limit(a, N) = a == N+1 ? 1 : a == 0 ? N : a"
   ]
  },
  {
   "cell_type": "code",
   "execution_count": null,
   "metadata": {},
   "outputs": [],
   "source": [
    "function brusselator_2d_loop!(du, u, p, t)\n",
    "    A, B, alpha, dx = p\n",
    "    alpha = alpha/dx^2\n",
    "    @inbounds for I in CartesianIndices((N, N))\n",
    "        # Indices\n",
    "        i, j = Tuple(I)\n",
    "        # Corrdinates\n",
    "        x, y = xyd_brusselator[I[1]], xyd_brusselator[I[2]]\n",
    "        # neuighbor indices\n",
    "        ip1, im1, jp1, jm1 = limit(i+1, N), limit(i-1, N), limit(j+1, N), limit(j-1, N)\n",
    "\n",
    "        # Finite difference\n",
    "        du[i,j,1] = alpha*(u[im1,j,1] + u[ip1,j,1] + u[i,jp1,1] + u[i,jm1,1] - 4u[i,j,1]) +\n",
    "                    B + u[i,j,1]^2*u[i,j,2] - (A + 1)*u[i,j,1] + brusselator_f(x, y, t)\n",
    "        du[i,j,2] = alpha*(u[im1,j,2] + u[ip1,j,2] + u[i,jp1,2] + u[i,jm1,2] - 4u[i,j,2]) +\n",
    "                    A*u[i,j,1] - u[i,j,1]^2*u[i,j,2]\n",
    "    end\n",
    "  end"
   ]
  },
  {
   "cell_type": "code",
   "execution_count": null,
   "metadata": {},
   "outputs": [],
   "source": [
    "function init_brusselator_2d(xyd)\n",
    "    N = length(xyd)\n",
    "    u = zeros(N, N, 2)\n",
    "    for I in CartesianIndices((N, N))\n",
    "      x = xyd[I[1]]\n",
    "      y = xyd[I[2]]\n",
    "      u[I,1] = 22*(y*(1-y))^(3/2)\n",
    "      u[I,2] = 27*(x*(1-x))^(3/2)\n",
    "    end\n",
    "    u\n",
    "  end"
   ]
  },
  {
   "cell_type": "code",
   "execution_count": null,
   "metadata": {},
   "outputs": [],
   "source": [
    "u0 = init_brusselator_2d(xyd_brusselator)\n",
    "tspan = (0., 11.5)\n",
    "p = (3.4, 1., 10., step(xyd_brusselator))\n",
    "prob_ode_brusselator_2d = ODEProblem(brusselator_2d_loop!, u0, tspan, p)"
   ]
  },
  {
   "cell_type": "code",
   "execution_count": null,
   "metadata": {},
   "outputs": [],
   "source": [
    "@time solve(prob_ode_brusselator_2d, TRBDF2(), save_everystep=false)"
   ]
  },
  {
   "cell_type": "markdown",
   "metadata": {},
   "source": [
    "## Using Jacobian-Free Newton-Krylov linear solver"
   ]
  },
  {
   "cell_type": "code",
   "execution_count": null,
   "metadata": {},
   "outputs": [],
   "source": [
    "@time solve(prob_ode_brusselator_2d, KenCarp47(linsolve=KrylovJL_GMRES()), save_everystep=false)"
   ]
  },
  {
   "cell_type": "markdown",
   "metadata": {},
   "source": [
    "## Using Sundials solvers"
   ]
  },
  {
   "cell_type": "code",
   "execution_count": null,
   "metadata": {},
   "outputs": [],
   "source": [
    "using Sundials\n",
    "\n",
    "@time solve(prob_ode_brusselator_2d, CVODE_BDF(linear_solver=:GMRES), save_everystep=false)"
   ]
  }
 ],
 "metadata": {
  "kernelspec": {
   "display_name": "Julia 1.8.0",
   "language": "julia",
   "name": "julia-1.8"
  },
  "language_info": {
   "file_extension": ".jl",
   "mimetype": "application/julia",
   "name": "julia",
   "version": "1.8.0"
  },
  "orig_nbformat": 4
 },
 "nbformat": 4,
 "nbformat_minor": 2
}
