{
 "cells": [
  {
   "cell_type": "markdown",
   "metadata": {},
   "source": [
    "# First Neural ODE example\n",
    "\n",
    "A neural ODE is an ODE where a neural network defines its derivative function. $\\dot{u} = NN(u)$\n",
    "\n",
    "From: https://docs.sciml.ai/DiffEqFlux/stable/examples/neural_ode/"
   ]
  },
  {
   "cell_type": "code",
   "execution_count": null,
   "metadata": {},
   "outputs": [],
   "source": [
    "using Lux, DiffEqFlux, DifferentialEquations, ComponentArrays\n",
    "using Optimization, OptimizationOptimJL, OptimizationOptimisers\n",
    "using Random, Plots\n",
    "rng = Random.default_rng()"
   ]
  },
  {
   "cell_type": "markdown",
   "metadata": {},
   "source": [
    "True solution: u cubed and multiplied by a matrix"
   ]
  },
  {
   "cell_type": "code",
   "execution_count": null,
   "metadata": {},
   "outputs": [],
   "source": [
    "function trueODEfunc(du, u, p, t)\n",
    "    true_A = [-0.1 2.0; -2.0 -0.1]\n",
    "    du .= ((u.^3)'true_A)'\n",
    "end"
   ]
  },
  {
   "cell_type": "markdown",
   "metadata": {},
   "source": [
    "Generate data"
   ]
  },
  {
   "cell_type": "code",
   "execution_count": null,
   "metadata": {},
   "outputs": [],
   "source": [
    "u0 = Float32[2.0; 0.0]\n",
    "datasize = 31\n",
    "tspan = (0.0f0, 1.5f0)\n",
    "tsteps = range(tspan[begin], tspan[end], length = datasize)\n",
    "prob_trueode = ODEProblem(trueODEfunc, u0, tspan)\n",
    "ode_data = Array(solve(prob_trueode, Tsit5(), saveat = tsteps))"
   ]
  },
  {
   "cell_type": "markdown",
   "metadata": {},
   "source": [
    "Define a `NeuralODE` problem with a neural network defined by `Lux.jl`."
   ]
  },
  {
   "cell_type": "code",
   "execution_count": null,
   "metadata": {},
   "outputs": [],
   "source": [
    "dudt2 = Lux.Chain(\n",
    "    x -> x.^3,\n",
    "    Lux.Dense(2, 50, tanh),\n",
    "    Lux.Dense(50, 2)\n",
    ")"
   ]
  },
  {
   "cell_type": "code",
   "execution_count": null,
   "metadata": {},
   "outputs": [],
   "source": [
    "p, st = Lux.setup(rng, dudt2)\n",
    "prob_neuralode = NeuralODE(dudt2, tspan, Tsit5(), saveat = tsteps)"
   ]
  },
  {
   "cell_type": "markdown",
   "metadata": {},
   "source": [
    "Predicted output"
   ]
  },
  {
   "cell_type": "code",
   "execution_count": null,
   "metadata": {},
   "outputs": [],
   "source": [
    "predict_neuralode(p) = Array(prob_neuralode(u0, p, st)[1])"
   ]
  },
  {
   "cell_type": "markdown",
   "metadata": {},
   "source": [
    "Loss function"
   ]
  },
  {
   "cell_type": "code",
   "execution_count": null,
   "metadata": {},
   "outputs": [],
   "source": [
    "function loss_neuralode(p)\n",
    "    pred = predict_neuralode(p)\n",
    "    l2loss = sum(abs2, ode_data .- pred)\n",
    "    return l2loss, pred\n",
    "end"
   ]
  },
  {
   "cell_type": "markdown",
   "metadata": {},
   "source": [
    "Callback function"
   ]
  },
  {
   "cell_type": "code",
   "execution_count": null,
   "metadata": {},
   "outputs": [],
   "source": [
    "anim = Animation()\n",
    "lossrecord=Float64[]\n",
    "callback = function (p, l, pred; doplot = true)\n",
    "    if doplot\n",
    "        plt = scatter(tsteps, ode_data[1,:], label = \"data\")\n",
    "        scatter!(plt, tsteps, pred[1,:], label = \"prediction\")\n",
    "        frame(anim)\n",
    "        push!(lossrecord, l)\n",
    "    else\n",
    "        println(l)\n",
    "    end\n",
    "    return false\n",
    "end"
   ]
  },
  {
   "cell_type": "markdown",
   "metadata": {},
   "source": [
    "Try the callback function to see if it works."
   ]
  },
  {
   "cell_type": "code",
   "execution_count": null,
   "metadata": {},
   "outputs": [],
   "source": [
    "pinit = ComponentArray(p)\n",
    "callback(pinit, loss_neuralode(pinit)...; doplot=false)"
   ]
  },
  {
   "cell_type": "markdown",
   "metadata": {},
   "source": [
    "Use https://github.com/SciML/Optimization.jl to solve the problem and https://github.com/FluxML/Zygote.jl for automatic differentiation (AD)."
   ]
  },
  {
   "cell_type": "code",
   "execution_count": null,
   "metadata": {},
   "outputs": [],
   "source": [
    "adtype = Optimization.AutoZygote()"
   ]
  },
  {
   "cell_type": "markdown",
   "metadata": {},
   "source": [
    "Define a [function](https://docs.sciml.ai/Optimization/stable/API/optimization_function/) to optimize with AD."
   ]
  },
  {
   "cell_type": "code",
   "execution_count": null,
   "metadata": {},
   "outputs": [],
   "source": [
    "optf = Optimization.OptimizationFunction((x, p) -> loss_neuralode(x), adtype)"
   ]
  },
  {
   "cell_type": "markdown",
   "metadata": {},
   "source": [
    "Define an `OptimizationProblem`"
   ]
  },
  {
   "cell_type": "code",
   "execution_count": null,
   "metadata": {},
   "outputs": [],
   "source": [
    "optprob = Optimization.OptimizationProblem(optf, pinit)"
   ]
  },
  {
   "cell_type": "markdown",
   "metadata": {},
   "source": [
    "Solve the `OptimizationProblem` using the ADAM optimizer first to get a rough estimate."
   ]
  },
  {
   "cell_type": "code",
   "execution_count": null,
   "metadata": {},
   "outputs": [],
   "source": [
    "result_neuralode = Optimization.solve(\n",
    "    optprob,\n",
    "    OptimizationOptimisers.ADAM(0.05),\n",
    "    callback = callback,\n",
    "    maxiters = 300\n",
    ")\n",
    "\n",
    "println(\"Loss is \", loss_neuralode(result_neuralode.u)[1])"
   ]
  },
  {
   "cell_type": "markdown",
   "metadata": {},
   "source": [
    "Use another optimizer (BFGS) to refine the solution."
   ]
  },
  {
   "cell_type": "code",
   "execution_count": null,
   "metadata": {},
   "outputs": [],
   "source": [
    "optprob2 = remake(optprob, u0 = result_neuralode.u)"
   ]
  },
  {
   "cell_type": "code",
   "execution_count": null,
   "metadata": {},
   "outputs": [],
   "source": [
    "result_neuralode2 = Optimization.solve(\n",
    "    optprob2,\n",
    "    Optim.BFGS(; initial_stepnorm = 0.01),\n",
    "    callback = callback,\n",
    "    allow_f_increases = false\n",
    ")\n",
    "\n",
    "println(\"Loss is \", loss_neuralode(result_neuralode2.u)[1])"
   ]
  },
  {
   "cell_type": "markdown",
   "metadata": {},
   "source": [
    "Visualize fitting process"
   ]
  },
  {
   "cell_type": "code",
   "execution_count": null,
   "metadata": {},
   "outputs": [],
   "source": [
    "mp4(anim, fps=15)"
   ]
  },
  {
   "cell_type": "code",
   "execution_count": null,
   "metadata": {},
   "outputs": [],
   "source": [
    "plot(lossrecord, xlabel=\"Epoch\", ylabel=\"Loss\", lab=false, yscale=:log10)"
   ]
  }
 ],
 "metadata": {
  "kernelspec": {
   "display_name": "Julia 1.11.0",
   "language": "julia",
   "name": "julia-1.11"
  },
  "language_info": {
   "file_extension": ".jl",
   "mimetype": "application/julia",
   "name": "julia",
   "version": "1.11.0"
  }
 },
 "nbformat": 4,
 "nbformat_minor": 2
}
