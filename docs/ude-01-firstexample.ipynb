{
 "cells": [
  {
   "attachments": {},
   "cell_type": "markdown",
   "metadata": {},
   "source": [
    "# First Neural ODE example\n",
    "\n",
    "A neural ODE is an ODE where a neural network defines its derivative function. $\\dot{u} = NN(u)$\n",
    "\n",
    "Docs: https://docs.sciml.ai/DiffEqFlux/dev/examples/neural_ode/"
   ]
  },
  {
   "cell_type": "code",
   "execution_count": null,
   "metadata": {},
   "outputs": [],
   "source": [
    "using Lux\n",
    "using ComponentArrays\n",
    "using DiffEqFlux\n",
    "using OrdinaryDiffEq\n",
    "using Optimization\n",
    "using OptimizationOptimJL\n",
    "using OptimizationOptimisers\n",
    "using Random\n",
    "using Plots\n",
    "\n",
    "rng = Random.default_rng()"
   ]
  },
  {
   "cell_type": "code",
   "execution_count": null,
   "metadata": {},
   "outputs": [],
   "source": [
    "u0 = Float32[2.0; 0.0]\n",
    "datasize = 30\n",
    "tspan = (0.0f0, 1.5f0)\n",
    "tsteps = range(tspan[begin], tspan[end], length = datasize)"
   ]
  },
  {
   "attachments": {},
   "cell_type": "markdown",
   "metadata": {},
   "source": [
    "Setup truth values for validation"
   ]
  },
  {
   "cell_type": "code",
   "execution_count": null,
   "metadata": {},
   "outputs": [],
   "source": [
    "true_A = Float32[-0.1 2.0; -2.0 -0.1]\n",
    "\n",
    "function trueODEfunc!(du, u, p, t)\n",
    "    du .= ((u.^3)'true_A)'\n",
    "end"
   ]
  },
  {
   "cell_type": "code",
   "execution_count": null,
   "metadata": {},
   "outputs": [],
   "source": [
    "prob_trueode = ODEProblem(trueODEfunc!, u0, tspan)\n",
    "ode_data = Array(solve(prob_trueode, Tsit5(), saveat = tsteps))"
   ]
  },
  {
   "cell_type": "code",
   "execution_count": null,
   "metadata": {},
   "outputs": [],
   "source": [
    "nodeFunc = Lux.Chain(\n",
    "    ActivationFunction(x -> x.^3),\n",
    "    Lux.Dense(2, 50, tanh),\n",
    "    Lux.Dense(50, 2)\n",
    ")\n",
    "\n",
    "p, st = Lux.setup(rng, nodeFunc)"
   ]
  },
  {
   "attachments": {},
   "cell_type": "markdown",
   "metadata": {},
   "source": [
    "Parameters in the neural network"
   ]
  },
  {
   "cell_type": "code",
   "execution_count": null,
   "metadata": {},
   "outputs": [],
   "source": [
    "p"
   ]
  },
  {
   "attachments": {},
   "cell_type": "markdown",
   "metadata": {},
   "source": [
    "Use `NeuroODE()` to construct the problem"
   ]
  },
  {
   "cell_type": "code",
   "execution_count": null,
   "metadata": {},
   "outputs": [],
   "source": [
    "prob_node = NeuralODE(nodeFunc, tspan, Tsit5(), saveat = tsteps)"
   ]
  },
  {
   "attachments": {},
   "cell_type": "markdown",
   "metadata": {},
   "source": [
    "Predicted values."
   ]
  },
  {
   "cell_type": "code",
   "execution_count": null,
   "metadata": {},
   "outputs": [],
   "source": [
    "function predict_neuralode(p)\n",
    "    Array(prob_node(u0, p, st)[1])\n",
    "end"
   ]
  },
  {
   "attachments": {},
   "cell_type": "markdown",
   "metadata": {},
   "source": [
    "The loss function."
   ]
  },
  {
   "cell_type": "code",
   "execution_count": null,
   "metadata": {},
   "outputs": [],
   "source": [
    "function loss_neuralode(p)\n",
    "    pred = predict_neuralode(p)\n",
    "    loss = sum(abs2, ode_data .- pred)\n",
    "    return loss, pred\n",
    "end"
   ]
  },
  {
   "attachments": {},
   "cell_type": "markdown",
   "metadata": {},
   "source": [
    "Callback function to observe training process"
   ]
  },
  {
   "cell_type": "code",
   "execution_count": null,
   "metadata": {},
   "outputs": [],
   "source": [
    "anim = Animation()\n",
    "callback = function (p, l, pred; doplot = true)\n",
    "    ## display(l)\n",
    "    if doplot\n",
    "        plt = scatter(tsteps, ode_data[1,:], label = \"data\")\n",
    "        scatter!(plt, tsteps, pred[1,:], label = \"prediction\")\n",
    "        frame(anim)\n",
    "        ## display(plot(plt))\n",
    "    end\n",
    "    return false\n",
    "end"
   ]
  },
  {
   "attachments": {},
   "cell_type": "markdown",
   "metadata": {},
   "source": [
    "Train the neural network using the ADAM optimizer"
   ]
  },
  {
   "cell_type": "code",
   "execution_count": null,
   "metadata": {},
   "outputs": [],
   "source": [
    "adtype = Optimization.AutoZygote()\n",
    "optf = Optimization.OptimizationFunction((x, p) -> loss_neuralode(x), adtype)"
   ]
  },
  {
   "attachments": {},
   "cell_type": "markdown",
   "metadata": {},
   "source": [
    "Create an optimization problem"
   ]
  },
  {
   "cell_type": "code",
   "execution_count": null,
   "metadata": {},
   "outputs": [],
   "source": [
    "optprob = Optimization.OptimizationProblem(optf, ComponentArray(p))"
   ]
  },
  {
   "attachments": {},
   "cell_type": "markdown",
   "metadata": {},
   "source": [
    "Solve the problem"
   ]
  },
  {
   "cell_type": "code",
   "execution_count": null,
   "metadata": {},
   "outputs": [],
   "source": [
    "result_neuralode = Optimization.solve(\n",
    "    optprob,\n",
    "    ADAM(0.05),\n",
    "    callback = callback,\n",
    "    maxiters = 300\n",
    ")"
   ]
  },
  {
   "attachments": {},
   "cell_type": "markdown",
   "metadata": {},
   "source": [
    "What about using the LBFGS optimizer"
   ]
  },
  {
   "cell_type": "code",
   "execution_count": null,
   "metadata": {},
   "outputs": [],
   "source": [
    "optprob2 = remake(optprob, u0 = result_neuralode.u)\n",
    "\n",
    "result_neuralode2 = Optimization.solve(\n",
    "    optprob2,\n",
    "    LBFGS(),\n",
    "    callback = callback,\n",
    "    allow_f_increases = false\n",
    ")"
   ]
  }
 ],
 "metadata": {
  "kernelspec": {
   "display_name": "Julia 1.8.5",
   "language": "julia",
   "name": "julia-1.8"
  },
  "language_info": {
   "file_extension": ".jl",
   "mimetype": "application/julia",
   "name": "julia",
   "version": "1.8.5"
  },
  "orig_nbformat": 4
 },
 "nbformat": 4,
 "nbformat_minor": 2
}
