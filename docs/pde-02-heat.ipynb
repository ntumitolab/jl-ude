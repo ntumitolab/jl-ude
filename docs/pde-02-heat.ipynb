{
 "cells": [
  {
   "cell_type": "markdown",
   "metadata": {},
   "source": [
    "# Heat Equation\n",
    "\n",
    "Solving\n",
    "\n",
    "$$\n",
    "\\frac{\\partial^2 u}{\\partial x^2} + \\frac{\\partial^2 u}{\\partial y^2} = 0\n",
    "$$\n",
    "\n",
    "Using [MethodOfLines.jl](http://methodoflines.sciml.ai/dev/) to sumbolically define the PDE system using the finite difference method (FDM).\n",
    "\n",
    "From the [MethodOfLines tutorial](https://docs.sciml.ai/MethodOfLines/stable/tutorials/heat/)."
   ]
  },
  {
   "cell_type": "markdown",
   "metadata": {},
   "source": []
  },
  {
   "cell_type": "markdown",
   "metadata": {},
   "source": [
    "## 2D Steady-state Heat equation"
   ]
  },
  {
   "cell_type": "code",
   "execution_count": null,
   "metadata": {},
   "outputs": [],
   "source": [
    "using ModelingToolkit\n",
    "using MethodOfLines\n",
    "using DomainSets\n",
    "using NonlinearSolve\n",
    "using Plots"
   ]
  },
  {
   "cell_type": "code",
   "execution_count": null,
   "metadata": {},
   "outputs": [],
   "source": [
    "@parameters x y\n",
    "@variables u(..)\n",
    "\n",
    "Dxx = Differential(x)^2\n",
    "Dyy = Differential(y)^2\n",
    "\n",
    "# PDE equation\n",
    "eq = Dxx(u(x, y)) + Dyy(u(x, y)) ~ 0\n",
    "\n",
    "# Boundary conditions\n",
    "bcs = [u(0, y) ~ x * y,\n",
    "       u(1, y) ~ x * y,\n",
    "       u(x, 0) ~ x * y,\n",
    "       u(x, 1) ~ x * y]\n",
    "\n",
    "# Space and time domains\n",
    "domains = [x ∈ Interval(0.0, 1.0),\n",
    "           y ∈ Interval(0.0, 1.0)]\n",
    "\n",
    "@named pdesys = PDESystem([eq], bcs, domains, [x, y], [u(x, y)])"
   ]
  },
  {
   "cell_type": "code",
   "execution_count": null,
   "metadata": {},
   "outputs": [],
   "source": [
    "# Discretization of 2D sapce\n",
    "N = 10\n",
    "dx = 1 / N\n",
    "dy = 1 / N\n",
    "\n",
    "# Note that we pass in `nothing` for the time variable here,\n",
    "# since we are creating a stationary problem without a dependence on time, only on space.\n",
    "discretization = MOLFiniteDifference([x => dx, y => dy], nothing, approx_order=2, grid_align=edge_align)"
   ]
  },
  {
   "cell_type": "code",
   "execution_count": null,
   "metadata": {},
   "outputs": [],
   "source": [
    "# The corresponding problem for this is a NonlinearProblem\n",
    "prob = discretize(pdesys, discretization)\n",
    "sol = NonlinearSolve.solve(prob, NewtonRaphson())\n",
    "\n",
    "heatmap(sol[x], sol[y], sol[u(x, y)], \n",
    "        xlabel=\"x values\", ylabel=\"y values\", title=\"Steady State Heat Equation\", \n",
    "        aspect_ratio=:equal, xlims=(0.0, 1.0), ylims=(0.0, 1.0))"
   ]
  },
  {
   "cell_type": "markdown",
   "metadata": {},
   "source": [
    "## Runtime information"
   ]
  },
  {
   "cell_type": "code",
   "execution_count": null,
   "metadata": {},
   "outputs": [],
   "source": [
    "versioninfo()"
   ]
  },
  {
   "cell_type": "code",
   "execution_count": null,
   "metadata": {},
   "outputs": [],
   "source": [
    "using Pkg\n",
    "Pkg.status()"
   ]
  }
 ],
 "metadata": {
  "kernelspec": {
   "display_name": "Julia 1.8.3",
   "language": "julia",
   "name": "julia-1.8"
  },
  "language_info": {
   "file_extension": ".jl",
   "mimetype": "application/julia",
   "name": "julia",
   "version": "1.8.3"
  },
  "orig_nbformat": 4
 },
 "nbformat": 4,
 "nbformat_minor": 2
}
