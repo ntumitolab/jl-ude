{
 "cells": [
  {
   "attachments": {},
   "cell_type": "markdown",
   "metadata": {},
   "source": [
    "# Solving ODEs with NeuralPDE.jl\n",
    "\n",
    "From https://neuralpde.sciml.ai/dev/tutorials/ode/\n",
    "\n",
    "For example, solving the ODE\n",
    "\n",
    "$$\n",
    "u^{\\prime} = cos(2 \\pi t)\n",
    "$$"
   ]
  },
  {
   "cell_type": "code",
   "execution_count": null,
   "metadata": {},
   "outputs": [],
   "source": [
    "using NeuralPDE\n",
    "using Lux\n",
    "using OptimizationOptimisers\n",
    "using OrdinaryDiffEq\n",
    "using Random\n",
    "rng = Random.default_rng()"
   ]
  },
  {
   "cell_type": "code",
   "execution_count": null,
   "metadata": {},
   "outputs": [],
   "source": [
    "model(u, p, t) = cospi(2t)\n",
    "\n",
    "tspan = (0.0f0, 1.0f0)\n",
    "u0 = 0.0f0\n",
    "prob = ODEProblem(model, u0, tspan)"
   ]
  },
  {
   "attachments": {},
   "cell_type": "markdown",
   "metadata": {},
   "source": [
    "Construct a neural network to solve the problem."
   ]
  },
  {
   "cell_type": "code",
   "execution_count": null,
   "metadata": {},
   "outputs": [],
   "source": [
    "chain = Lux.Chain(Lux.Dense(1, 5, tanh), Lux.Dense(5, 1))\n",
    "p, st = Lux.setup(rng, chain)"
   ]
  },
  {
   "attachments": {},
   "cell_type": "markdown",
   "metadata": {},
   "source": [
    "And we solve the ODE as before, just replace the solver algorithm to `NeuralPDE` with common ones (e.g. `Tsit5()`)."
   ]
  },
  {
   "cell_type": "code",
   "execution_count": null,
   "metadata": {},
   "outputs": [],
   "source": [
    "optimizer = OptimizationOptimisers.Adam(0.1)\n",
    "alg = NeuralPDE.NNODE(chain, optimizer)\n",
    "sol = solve(prob, alg, verbose=true, abstol=1f-6, maxiters=300)"
   ]
  },
  {
   "attachments": {},
   "cell_type": "markdown",
   "metadata": {},
   "source": [
    "Comparing to the regular solver"
   ]
  },
  {
   "cell_type": "code",
   "execution_count": null,
   "metadata": {},
   "outputs": [],
   "source": [
    "sol2 = solve(prob, Tsit5(), abstol=1f-6, saveat=sol.t)"
   ]
  },
  {
   "attachments": {},
   "cell_type": "markdown",
   "metadata": {},
   "source": [
    "The difference between solutions"
   ]
  },
  {
   "cell_type": "code",
   "execution_count": null,
   "metadata": {},
   "outputs": [],
   "source": [
    "using LinearAlgebra\n",
    "norm(sol.u .- sol2.u, Inf)"
   ]
  }
 ],
 "metadata": {
  "kernelspec": {
   "display_name": "Julia 1.8.5",
   "language": "julia",
   "name": "julia-1.8"
  },
  "language_info": {
   "file_extension": ".jl",
   "mimetype": "application/julia",
   "name": "julia",
   "version": "1.8.5"
  },
  "orig_nbformat": 4
 },
 "nbformat": 4,
 "nbformat_minor": 2
}
